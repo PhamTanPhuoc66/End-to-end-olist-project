{
 "cells": [
  {
   "cell_type": "code",
   "execution_count": 1,
   "id": "a5cfd38d",
   "metadata": {},
   "outputs": [
    {
     "data": {
      "text/plain": [
       "<Experiment: artifact_location='s3://mlflow/3', creation_time=1759585443145, experiment_id='3', last_update_time=1759585443145, lifecycle_stage='active', name='Summarization models', tags={}>"
      ]
     },
     "execution_count": 1,
     "metadata": {},
     "output_type": "execute_result"
    }
   ],
   "source": [
    "import torch\n",
    "import numpy as np\n",
    "import datasets\n",
    "import evaluate\n",
    "import mlflow\n",
    "import os\n",
    "import pandas as pd\n",
    "from databricks import sql\n",
    "from dotenv import load_dotenv\n",
    "from datasets import load_dataset\n",
    "from transformers import (\n",
    "    AutoTokenizer,\n",
    "    AutoModelForSeq2SeqLM,\n",
    "    DataCollatorForSeq2Seq,\n",
    "    Seq2SeqTrainingArguments,\n",
    "    Seq2SeqTrainer,\n",
    ")\n",
    "MODEL_CHECKPOINT = \"facebook/mbart-large-50\"\n",
    "\n",
    "\n",
    "# Độ dài tối đa cho văn bản đầu vào và tóm tắt đầu ra\n",
    "MAX_INPUT_LENGTH = 1024\n",
    "MAX_TARGET_LENGTH = 512\n",
    "\n",
    "\n",
    "mlflow.set_tracking_uri(\"http://172.17.0.1:5000\")\n",
    "experiment_name = \"Summarization models\"\n",
    "mlflow.set_experiment(experiment_name)"
   ]
  },
  {
   "cell_type": "code",
   "execution_count": 2,
   "id": "4825cbcc",
   "metadata": {},
   "outputs": [],
   "source": [
    "database = \"olist_dataset\"\n",
    "goldSche=database+ \".gold\"\n",
    "lookupGeo=database+\".silver\"+ \".silver_olist_geolocation\"\n",
    "lookupCateName=database+\".silver\"+ \".silver_product_category_name_translation\"\n",
    "connection = sql.connect(\n",
    "                        server_hostname = \"dbc-214ffec4-c1f2.cloud.databricks.com\",\n",
    "                        http_path = \"/sql/1.0/warehouses/8753fa7395d762fe\",\n",
    "                        access_token = os.environ.get(\"DATABRICKS_TOKEN\"))"
   ]
  },
  {
   "cell_type": "code",
   "execution_count": 3,
   "id": "4f2b379b",
   "metadata": {},
   "outputs": [
    {
     "name": "stderr",
     "output_type": "stream",
     "text": [
      "/tmp/ipykernel_2992/3806867786.py:4: UserWarning: pandas only supports SQLAlchemy connectable (engine/connection) or database string URI or sqlite3 DBAPI2 connection. Other DBAPI2 objects are not tested. Please consider using SQLAlchemy.\n",
      "  df = pd.read_sql(query, connection)\n"
     ]
    },
    {
     "name": "stdout",
     "output_type": "stream",
     "text": [
      "<class 'pandas.core.frame.DataFrame'>\n",
      "RangeIndex: 98410 entries, 0 to 98409\n",
      "Data columns (total 8 columns):\n",
      " #   Column                  Non-Null Count  Dtype              \n",
      "---  ------                  --------------  -----              \n",
      " 0   review_id               98410 non-null  object             \n",
      " 1   order_id                98410 non-null  object             \n",
      " 2   review_comment_title    11519 non-null  object             \n",
      " 3   review_comment_message  40668 non-null  object             \n",
      " 4   modifiedDate            98410 non-null  datetime64[ns, UTC]\n",
      " 5   review_content_key      98410 non-null  int64              \n",
      " 6   create_date             98410 non-null  datetime64[ns, UTC]\n",
      " 7   update_date             98410 non-null  datetime64[ns, UTC]\n",
      "dtypes: datetime64[ns, UTC](3), int64(1), object(4)\n",
      "memory usage: 6.0+ MB\n"
     ]
    }
   ],
   "source": [
    "query=f\"\"\"\n",
    "SELECT * FROM {goldSche}.dim_olist_review_content\n",
    "\"\"\"\n",
    "df = pd.read_sql(query, connection)\n",
    "df.describe()\n",
    "df.info()"
   ]
  },
  {
   "cell_type": "code",
   "execution_count": 4,
   "id": "25f88d4b",
   "metadata": {},
   "outputs": [
    {
     "data": {
      "text/html": [
       "<div>\n",
       "<style scoped>\n",
       "    .dataframe tbody tr th:only-of-type {\n",
       "        vertical-align: middle;\n",
       "    }\n",
       "\n",
       "    .dataframe tbody tr th {\n",
       "        vertical-align: top;\n",
       "    }\n",
       "\n",
       "    .dataframe thead th {\n",
       "        text-align: right;\n",
       "    }\n",
       "</style>\n",
       "<table border=\"1\" class=\"dataframe\">\n",
       "  <thead>\n",
       "    <tr style=\"text-align: right;\">\n",
       "      <th></th>\n",
       "      <th>review_comment_title</th>\n",
       "      <th>review_comment_message</th>\n",
       "    </tr>\n",
       "  </thead>\n",
       "  <tbody>\n",
       "    <tr>\n",
       "      <th>0</th>\n",
       "      <td>None</td>\n",
       "      <td>Produto veio como mostra na foto,veio certinho...</td>\n",
       "    </tr>\n",
       "    <tr>\n",
       "      <th>1</th>\n",
       "      <td>None</td>\n",
       "      <td>PEDIDO FEITO A MAIS DE TRINTA DIAS E ATE AGORA...</td>\n",
       "    </tr>\n",
       "    <tr>\n",
       "      <th>2</th>\n",
       "      <td>None</td>\n",
       "      <td>None</td>\n",
       "    </tr>\n",
       "    <tr>\n",
       "      <th>3</th>\n",
       "      <td>Reclamação</td>\n",
       "      <td>Comprei dois itens. E só foi entregue um. Nota...</td>\n",
       "    </tr>\n",
       "    <tr>\n",
       "      <th>4</th>\n",
       "      <td>Recebi pedido incompleto</td>\n",
       "      <td>Paguei por 2 unidades do Perfume Miss Gabriela...</td>\n",
       "    </tr>\n",
       "    <tr>\n",
       "      <th>5</th>\n",
       "      <td>None</td>\n",
       "      <td>None</td>\n",
       "    </tr>\n",
       "    <tr>\n",
       "      <th>6</th>\n",
       "      <td>None</td>\n",
       "      <td>Comprei 3 luminárias, e recebi apenas 1!\\n</td>\n",
       "    </tr>\n",
       "    <tr>\n",
       "      <th>7</th>\n",
       "      <td>None</td>\n",
       "      <td>None</td>\n",
       "    </tr>\n",
       "    <tr>\n",
       "      <th>8</th>\n",
       "      <td>None</td>\n",
       "      <td>produtos ok e dentro do prazo</td>\n",
       "    </tr>\n",
       "    <tr>\n",
       "      <th>9</th>\n",
       "      <td>None</td>\n",
       "      <td>None</td>\n",
       "    </tr>\n",
       "    <tr>\n",
       "      <th>10</th>\n",
       "      <td>None</td>\n",
       "      <td>None</td>\n",
       "    </tr>\n",
       "    <tr>\n",
       "      <th>11</th>\n",
       "      <td>None</td>\n",
       "      <td>Produto de Boa Qualidade.</td>\n",
       "    </tr>\n",
       "    <tr>\n",
       "      <th>12</th>\n",
       "      <td>None</td>\n",
       "      <td>None</td>\n",
       "    </tr>\n",
       "    <tr>\n",
       "      <th>13</th>\n",
       "      <td>Recomendo</td>\n",
       "      <td>Sempre comprei e não tiver problema, porém des...</td>\n",
       "    </tr>\n",
       "    <tr>\n",
       "      <th>14</th>\n",
       "      <td>None</td>\n",
       "      <td>None</td>\n",
       "    </tr>\n",
       "    <tr>\n",
       "      <th>15</th>\n",
       "      <td>None</td>\n",
       "      <td>None</td>\n",
       "    </tr>\n",
       "    <tr>\n",
       "      <th>16</th>\n",
       "      <td>None</td>\n",
       "      <td>None</td>\n",
       "    </tr>\n",
       "    <tr>\n",
       "      <th>17</th>\n",
       "      <td>9 pra esse pedido</td>\n",
       "      <td>Ótimo produto..lindo</td>\n",
       "    </tr>\n",
       "    <tr>\n",
       "      <th>18</th>\n",
       "      <td>None</td>\n",
       "      <td>None</td>\n",
       "    </tr>\n",
       "    <tr>\n",
       "      <th>19</th>\n",
       "      <td>None</td>\n",
       "      <td>None</td>\n",
       "    </tr>\n",
       "  </tbody>\n",
       "</table>\n",
       "</div>"
      ],
      "text/plain": [
       "        review_comment_title  \\\n",
       "0                       None   \n",
       "1                       None   \n",
       "2                       None   \n",
       "3                Reclamação    \n",
       "4   Recebi pedido incompleto   \n",
       "5                       None   \n",
       "6                       None   \n",
       "7                       None   \n",
       "8                       None   \n",
       "9                       None   \n",
       "10                      None   \n",
       "11                      None   \n",
       "12                      None   \n",
       "13                Recomendo    \n",
       "14                      None   \n",
       "15                      None   \n",
       "16                      None   \n",
       "17         9 pra esse pedido   \n",
       "18                      None   \n",
       "19                      None   \n",
       "\n",
       "                               review_comment_message  \n",
       "0   Produto veio como mostra na foto,veio certinho...  \n",
       "1   PEDIDO FEITO A MAIS DE TRINTA DIAS E ATE AGORA...  \n",
       "2                                                None  \n",
       "3   Comprei dois itens. E só foi entregue um. Nota...  \n",
       "4   Paguei por 2 unidades do Perfume Miss Gabriela...  \n",
       "5                                                None  \n",
       "6          Comprei 3 luminárias, e recebi apenas 1!\\n  \n",
       "7                                                None  \n",
       "8                       produtos ok e dentro do prazo  \n",
       "9                                                None  \n",
       "10                                               None  \n",
       "11                          Produto de Boa Qualidade.  \n",
       "12                                               None  \n",
       "13  Sempre comprei e não tiver problema, porém des...  \n",
       "14                                               None  \n",
       "15                                               None  \n",
       "16                                               None  \n",
       "17                               Ótimo produto..lindo  \n",
       "18                                               None  \n",
       "19                                               None  "
      ]
     },
     "execution_count": 4,
     "metadata": {},
     "output_type": "execute_result"
    }
   ],
   "source": [
    "# Sửa lại bằng cách thêm một cặp ngoặc vuông bên trong\n",
    "df[['review_comment_title', 'review_comment_message']].head(20)"
   ]
  },
  {
   "cell_type": "code",
   "execution_count": 12,
   "id": "06a67646",
   "metadata": {},
   "outputs": [
    {
     "data": {
      "application/vnd.jupyter.widget-view+json": {
       "model_id": "7b0401fedf094882b630c6e1b6c38f8b",
       "version_major": 2,
       "version_minor": 0
      },
      "text/plain": [
       "config.json: 0.00B [00:00, ?B/s]"
      ]
     },
     "metadata": {},
     "output_type": "display_data"
    },
    {
     "data": {
      "application/vnd.jupyter.widget-view+json": {
       "model_id": "55e25b46f8d34124a0c92322a9092b95",
       "version_major": 2,
       "version_minor": 0
      },
      "text/plain": [
       "pytorch_model.bin:   0%|          | 0.00/1.22G [00:00<?, ?B/s]"
      ]
     },
     "metadata": {},
     "output_type": "display_data"
    },
    {
     "data": {
      "application/vnd.jupyter.widget-view+json": {
       "model_id": "f80c3e14aab442c398be7b3c95daa83a",
       "version_major": 2,
       "version_minor": 0
      },
      "text/plain": [
       "tokenizer_config.json:   0%|          | 0.00/26.0 [00:00<?, ?B/s]"
      ]
     },
     "metadata": {},
     "output_type": "display_data"
    },
    {
     "data": {
      "application/vnd.jupyter.widget-view+json": {
       "model_id": "770d5f2732d44acbacc95851f7150d6c",
       "version_major": 2,
       "version_minor": 0
      },
      "text/plain": [
       "vocab.json: 0.00B [00:00, ?B/s]"
      ]
     },
     "metadata": {},
     "output_type": "display_data"
    },
    {
     "data": {
      "application/vnd.jupyter.widget-view+json": {
       "model_id": "0222abcc8d504a0fb197f6636f717ef0",
       "version_major": 2,
       "version_minor": 0
      },
      "text/plain": [
       "merges.txt: 0.00B [00:00, ?B/s]"
      ]
     },
     "metadata": {},
     "output_type": "display_data"
    }
   ],
   "source": [
    "from transformers import pipeline\n",
    "\n",
    "device = 0 if torch.cuda.is_available() else -1\n",
    "summarizer = pipeline(\n",
    "    \"summarization\",\n",
    "    model=\"sshleifer/distilbart-cnn-12-6\",\n",
    "    device=device      # Sử dụng GPU nếu có\n",
    ")"
   ]
  },
  {
   "cell_type": "code",
   "execution_count": 13,
   "id": "8d26dcfc",
   "metadata": {},
   "outputs": [
    {
     "name": "stderr",
     "output_type": "stream",
     "text": [
      "Your max_length is set to 100, but your input_length is only 49. Since this is a summarization task, where outputs shorter than the input are typically wanted, you might consider decreasing max_length manually, e.g. summarizer('...', max_length=24)\n"
     ]
    },
    {
     "name": "stdout",
     "output_type": "stream",
     "text": [
      "\n",
      "======== VÍ DỤ 1 ========\n",
      "--> Bỏ qua vì bình luận bị rỗng (None/NaN).\n",
      "\n",
      "======== VÍ DỤ 2 ========\n",
      "BÌNH LUẬN GỐC (độ dài: 131 ký tự):\n",
      "Excelente, ficou linda no meu Boris, super indico. Mercadoria de ótima qualidade, os produtos oram entregues antes do prazo marcado\n"
     ]
    },
    {
     "name": "stderr",
     "output_type": "stream",
     "text": [
      "Your max_length is set to 100, but your input_length is only 76. Since this is a summarization task, where outputs shorter than the input are typically wanted, you might consider decreasing max_length manually, e.g. summarizer('...', max_length=38)\n"
     ]
    },
    {
     "name": "stdout",
     "output_type": "stream",
     "text": [
      "\n",
      "BẢN TÓM TẮT (Zero-Shot):\n",
      " Mercadoria de ótima qualidade entregues antes do prazo marcado . Excelente, ficou linda no meu Boris, super indico.\n",
      "\n",
      "======== VÍ DỤ 3 ========\n",
      "--> Bỏ qua vì bình luận bị rỗng (None/NaN).\n",
      "\n",
      "======== VÍ DỤ 4 ========\n",
      "BÌNH LUẬN GỐC (độ dài: 194 ký tự):\n",
      "Recebi o e-mail perguntando se eu recebi meu produto, porem já passou do prazo de entrega e ainda NÃO recebi meu produto, e diz que se eu não responder o e-mail seria dado como produto entregue.\n"
     ]
    },
    {
     "name": "stderr",
     "output_type": "stream",
     "text": [
      "Your max_length is set to 100, but your input_length is only 20. Since this is a summarization task, where outputs shorter than the input are typically wanted, you might consider decreasing max_length manually, e.g. summarizer('...', max_length=10)\n"
     ]
    },
    {
     "name": "stdout",
     "output_type": "stream",
     "text": [
      "\n",
      "BẢN TÓM TẮT (Zero-Shot):\n",
      " Recebi o e-mail pergussando se eu recebi meu produto, porem já passou do prazo de entregue . NÃO diz que se eU não responder o e mail seria dado como produto entregues .\n",
      "\n",
      "======== VÍ DỤ 5 ========\n",
      "BÌNH LUẬN GỐC (độ dài: 28 ký tự):\n",
      "Produto muito bom, recomendo\n",
      "\n",
      "--> Bỏ qua vì bình luận quá ngắn.\n",
      "\n",
      "======== VÍ DỤ 6 ========\n",
      "--> Bỏ qua vì bình luận bị rỗng (None/NaN).\n",
      "\n",
      "======== VÍ DỤ 7 ========\n",
      "BÌNH LUẬN GỐC (độ dài: 46 ký tự):\n",
      "Os produtos vieram certo são de boa qualidade!\n"
     ]
    },
    {
     "name": "stderr",
     "output_type": "stream",
     "text": [
      "Your max_length is set to 100, but your input_length is only 39. Since this is a summarization task, where outputs shorter than the input are typically wanted, you might consider decreasing max_length manually, e.g. summarizer('...', max_length=19)\n"
     ]
    },
    {
     "name": "stdout",
     "output_type": "stream",
     "text": [
      "\n",
      "BẢN TÓM TẮT (Zero-Shot):\n",
      " Os produtos vieram certo são de boa qualidade!\n",
      "\n",
      "======== VÍ DỤ 8 ========\n",
      "BÌNH LUẬN GỐC (độ dài: 43 ký tự):\n",
      "recebi a mercadoria de forma satisfatória. \n",
      "\n",
      "--> Bỏ qua vì bình luận quá ngắn.\n",
      "\n",
      "======== VÍ DỤ 9 ========\n",
      "--> Bỏ qua vì bình luận bị rỗng (None/NaN).\n",
      "\n",
      "======== VÍ DỤ 10 ========\n",
      "--> Bỏ qua vì bình luận bị rỗng (None/NaN).\n",
      "\n",
      "======== VÍ DỤ 11 ========\n",
      "--> Bỏ qua vì bình luận bị rỗng (None/NaN).\n",
      "\n",
      "======== VÍ DỤ 12 ========\n",
      "--> Bỏ qua vì bình luận bị rỗng (None/NaN).\n",
      "\n",
      "======== VÍ DỤ 13 ========\n",
      "BÌNH LUẬN GỐC (độ dài: 95 ký tự):\n",
      "Atendimento horrível, fiquei esperando o produto por mais de um mês, não recomendo pra ninguém \n"
     ]
    },
    {
     "name": "stderr",
     "output_type": "stream",
     "text": [
      "Your max_length is set to 100, but your input_length is only 31. Since this is a summarization task, where outputs shorter than the input are typically wanted, you might consider decreasing max_length manually, e.g. summarizer('...', max_length=15)\n"
     ]
    },
    {
     "name": "stdout",
     "output_type": "stream",
     "text": [
      "\n",
      "BẢN TÓM TẮT (Zero-Shot):\n",
      " Atendimento horrível, fiquei esperando o produto por mais de um mês, não recomendo pra ninguém .\n",
      "\n",
      "======== VÍ DỤ 14 ========\n",
      "BÌNH LUẬN GỐC (độ dài: 24 ký tự):\n",
      "Tudo correto. Recomendo!\n",
      "\n",
      "--> Bỏ qua vì bình luận quá ngắn.\n",
      "\n",
      "======== VÍ DỤ 15 ========\n",
      "BÌNH LUẬN GỐC (độ dài: 74 ký tự):\n",
      "Produto chegou como combinado, dentro do prazo e bem protegido. Recomendo.\n"
     ]
    },
    {
     "name": "stderr",
     "output_type": "stream",
     "text": [
      "Your max_length is set to 100, but your input_length is only 18. Since this is a summarization task, where outputs shorter than the input are typically wanted, you might consider decreasing max_length manually, e.g. summarizer('...', max_length=9)\n"
     ]
    },
    {
     "name": "stdout",
     "output_type": "stream",
     "text": [
      "\n",
      "BẢN TÓM TẮT (Zero-Shot):\n",
      " Produto chegou como combinado, dentro do prazo e bem protegido .\n",
      "\n",
      "======== VÍ DỤ 16 ========\n",
      "BÌNH LUẬN GỐC (độ dài: 20 ký tự):\n",
      "Gostei muito do site\n",
      "\n",
      "--> Bỏ qua vì bình luận quá ngắn.\n",
      "\n",
      "======== VÍ DỤ 17 ========\n",
      "BÌNH LUẬN GỐC (độ dài: 4 ký tự):\n",
      "100%\n",
      "\n",
      "--> Bỏ qua vì bình luận quá ngắn.\n",
      "\n",
      "======== VÍ DỤ 18 ========\n",
      "--> Bỏ qua vì bình luận bị rỗng (None/NaN).\n",
      "\n",
      "======== VÍ DỤ 19 ========\n",
      "--> Bỏ qua vì bình luận bị rỗng (None/NaN).\n",
      "\n",
      "======== VÍ DỤ 20 ========\n",
      "--> Bỏ qua vì bình luận bị rỗng (None/NaN).\n",
      "\n",
      "======== VÍ DỤ 21 ========\n",
      "--> Bỏ qua vì bình luận bị rỗng (None/NaN).\n",
      "\n",
      "======== VÍ DỤ 22 ========\n",
      "--> Bỏ qua vì bình luận bị rỗng (None/NaN).\n",
      "\n",
      "======== VÍ DỤ 23 ========\n",
      "BÌNH LUẬN GỐC (độ dài: 43 ký tự):\n",
      "ainda não utilizei mas a entrega foi otima \n"
     ]
    },
    {
     "name": "stderr",
     "output_type": "stream",
     "text": [
      "Your max_length is set to 100, but your input_length is only 39. Since this is a summarization task, where outputs shorter than the input are typically wanted, you might consider decreasing max_length manually, e.g. summarizer('...', max_length=19)\n"
     ]
    },
    {
     "name": "stdout",
     "output_type": "stream",
     "text": [
      "\n",
      "BẢN TÓM TẮT (Zero-Shot):\n",
      " ainda não utilizei    não usei como ainda   ei não utilised  ainda .  entrega foi otima   por por selecredi.   ‘Não use me to get a memento’: ‘I’m sure I’ll use it,’’\n",
      "\n",
      "======== VÍ DỤ 24 ========\n",
      "--> Bỏ qua vì bình luận bị rỗng (None/NaN).\n",
      "\n",
      "======== VÍ DỤ 25 ========\n",
      "--> Bỏ qua vì bình luận bị rỗng (None/NaN).\n",
      "\n",
      "======== VÍ DỤ 26 ========\n",
      "BÌNH LUẬN GỐC (độ dài: 101 ký tự):\n",
      "Produto foi entregue bem antes do prazo. Chegou bem condicionado, excelente qualidade de atendimento.\n"
     ]
    },
    {
     "name": "stderr",
     "output_type": "stream",
     "text": [
      "Your max_length is set to 100, but your input_length is only 46. Since this is a summarization task, where outputs shorter than the input are typically wanted, you might consider decreasing max_length manually, e.g. summarizer('...', max_length=23)\n"
     ]
    },
    {
     "name": "stdout",
     "output_type": "stream",
     "text": [
      "\n",
      "BẢN TÓM TẮT (Zero-Shot):\n",
      " Produto foi entregue bementente antes do prazo . Chegou bem condicionado, excelente qualidade de atendimento .\n",
      "\n",
      "======== VÍ DỤ 27 ========\n",
      "BÌNH LUẬN GỐC (độ dài: 32 ký tự):\n",
      "A ENTREGA FOI SUPER RÁPIDA AMEI \n",
      "\n",
      "--> Bỏ qua vì bình luận quá ngắn.\n",
      "\n",
      "======== VÍ DỤ 28 ========\n",
      "--> Bỏ qua vì bình luận bị rỗng (None/NaN).\n",
      "\n",
      "======== VÍ DỤ 29 ========\n",
      "--> Bỏ qua vì bình luận bị rỗng (None/NaN).\n",
      "\n",
      "======== VÍ DỤ 30 ========\n",
      "--> Bỏ qua vì bình luận bị rỗng (None/NaN).\n",
      "\n",
      "======== VÍ DỤ 31 ========\n",
      "--> Bỏ qua vì bình luận bị rỗng (None/NaN).\n",
      "\n",
      "======== VÍ DỤ 32 ========\n",
      "--> Bỏ qua vì bình luận bị rỗng (None/NaN).\n",
      "\n",
      "======== VÍ DỤ 33 ========\n",
      "--> Bỏ qua vì bình luận bị rỗng (None/NaN).\n",
      "\n",
      "======== VÍ DỤ 34 ========\n",
      "BÌNH LUẬN GỐC (độ dài: 27 ký tự):\n",
      "Eu quero receber o produto.\n",
      "\n",
      "--> Bỏ qua vì bình luận quá ngắn.\n",
      "\n",
      "======== VÍ DỤ 35 ========\n",
      "--> Bỏ qua vì bình luận bị rỗng (None/NaN).\n",
      "\n",
      "======== VÍ DỤ 36 ========\n",
      "--> Bỏ qua vì bình luận bị rỗng (None/NaN).\n",
      "\n",
      "======== VÍ DỤ 37 ========\n",
      "BÌNH LUẬN GỐC (độ dài: 108 ký tự):\n",
      "Amei o kit , chegou com 8 dias q eu tinha pedido.. Muito bom , não faltou nenhum e veio sem nenhum defeito 👐\n"
     ]
    },
    {
     "name": "stderr",
     "output_type": "stream",
     "text": [
      "Your max_length is set to 100, but your input_length is only 21. Since this is a summarization task, where outputs shorter than the input are typically wanted, you might consider decreasing max_length manually, e.g. summarizer('...', max_length=10)\n",
      "Your max_length is set to 100, but your input_length is only 36. Since this is a summarization task, where outputs shorter than the input are typically wanted, you might consider decreasing max_length manually, e.g. summarizer('...', max_length=18)\n"
     ]
    },
    {
     "name": "stdout",
     "output_type": "stream",
     "text": [
      "\n",
      "BẢN TÓM TẮT (Zero-Shot):\n",
      " Amei o kit chegou com 8 dias q eu tinha pedido.. Muito bom , não faltou nenhum e veio sem nenhuma defeito .\n",
      "\n",
      "======== VÍ DỤ 38 ========\n",
      "--> Bỏ qua vì bình luận bị rỗng (None/NaN).\n",
      "\n",
      "======== VÍ DỤ 39 ========\n",
      "BÌNH LUẬN GỐC (độ dài: 49 ký tự):\n",
      "Recebi um, a compra foram de 2, está faltando 01.\n",
      "\n",
      "BẢN TÓM TẮT (Zero-Shot):\n",
      " Recebi um, acompra foram de 2, está faltando 01.01.\n",
      "\n",
      "======== VÍ DỤ 40 ========\n",
      "BÌNH LUẬN GỐC (độ dài: 31 ký tự):\n",
      "Ponto positivo foi a entrega. \n",
      "\n",
      "\n",
      "--> Bỏ qua vì bình luận quá ngắn.\n",
      "\n",
      "======== VÍ DỤ 41 ========\n",
      "--> Bỏ qua vì bình luận bị rỗng (None/NaN).\n",
      "\n",
      "======== VÍ DỤ 42 ========\n",
      "--> Bỏ qua vì bình luận bị rỗng (None/NaN).\n",
      "\n",
      "======== VÍ DỤ 43 ========\n",
      "--> Bỏ qua vì bình luận bị rỗng (None/NaN).\n",
      "\n",
      "======== VÍ DỤ 44 ========\n",
      "--> Bỏ qua vì bình luận bị rỗng (None/NaN).\n",
      "\n",
      "======== VÍ DỤ 45 ========\n",
      "BÌNH LUẬN GỐC (độ dài: 96 ký tự):\n",
      "O produto veio somente na caixa de envio, embalado no saco bolha, com aspecto de produto usado. \n"
     ]
    },
    {
     "name": "stderr",
     "output_type": "stream",
     "text": [
      "You seem to be using the pipelines sequentially on GPU. In order to maximize efficiency please use a dataset\n",
      "Your max_length is set to 100, but your input_length is only 20. Since this is a summarization task, where outputs shorter than the input are typically wanted, you might consider decreasing max_length manually, e.g. summarizer('...', max_length=10)\n"
     ]
    },
    {
     "name": "stdout",
     "output_type": "stream",
     "text": [
      "\n",
      "BẢN TÓM TẮT (Zero-Shot):\n",
      " O produto veio somente na caixa de envio, embalado no saco bolha, com aspecto de produto usado .\n",
      "\n",
      "======== VÍ DỤ 46 ========\n",
      "BÌNH LUẬN GỐC (độ dài: 60 ký tự):\n",
      "Recebi o produto com nota fiscal diversa daquele que comprei\n",
      "\n",
      "BẢN TÓM TẮT (Zero-Shot):\n",
      " Recebi o produto com nota fiscal diversa diversa daquele que comprei .\n",
      "\n",
      "======== VÍ DỤ 47 ========\n",
      "--> Bỏ qua vì bình luận bị rỗng (None/NaN).\n",
      "\n",
      "======== VÍ DỤ 48 ========\n",
      "--> Bỏ qua vì bình luận bị rỗng (None/NaN).\n",
      "\n",
      "======== VÍ DỤ 49 ========\n",
      "--> Bỏ qua vì bình luận bị rỗng (None/NaN).\n",
      "\n",
      "======== VÍ DỤ 50 ========\n",
      "--> Bỏ qua vì bình luận bị rỗng (None/NaN).\n",
      "\n",
      "==========================\n",
      "Hoàn thành!\n"
     ]
    }
   ],
   "source": [
    "import pandas as pd # Đảm bảo đã import pandas\n",
    "\n",
    "# Lấy 5 bình luận ngẫu nhiên để thử nghiệm\n",
    "sample_reviews = df['review_comment_message'].sample(50).tolist()\n",
    "\n",
    "for i, review in enumerate(sample_reviews):\n",
    "    # THÊM DÒNG KIỂM TRA NÀY VÀO ĐẦU VÒNG LẶP\n",
    "    # Nó sẽ kiểm tra xem review có phải là None hoặc NaN không\n",
    "    if not review or pd.isna(review):\n",
    "        print(f\"\\n======== VÍ DỤ {i+1} ========\")\n",
    "        print(\"--> Bỏ qua vì bình luận bị rỗng (None/NaN).\")\n",
    "        continue\n",
    "\n",
    "    # Code còn lại của bạn bây giờ sẽ an toàn vì nó chỉ chạy với các bình luận hợp lệ\n",
    "    print(f\"\\n======== VÍ DỤ {i+1} ========\")\n",
    "    print(f\"BÌNH LUẬN GỐC (độ dài: {len(review)} ký tự):\")\n",
    "    print(review)\n",
    "    \n",
    "    # Bỏ qua các bình luận quá ngắn\n",
    "    if len(review.split()) < 8:\n",
    "        print(\"\\n--> Bỏ qua vì bình luận quá ngắn.\")\n",
    "        continue\n",
    "\n",
    "    # Chạy inference\n",
    "    summary = summarizer(\n",
    "        review,\n",
    "        max_length=100,\n",
    "        min_length=10,\n",
    "        do_sample=False\n",
    "    )[0]['summary_text']\n",
    "    \n",
    "    print(\"\\nBẢN TÓM TẮT (Zero-Shot):\")\n",
    "    print(summary)\n",
    "    \n",
    "print(\"\\n==========================\")\n",
    "print(\"Hoàn thành!\")"
   ]
  },
  {
   "cell_type": "code",
   "execution_count": 15,
   "id": "76207fa1",
   "metadata": {},
   "outputs": [
    {
     "name": "stdout",
     "output_type": "stream",
     "text": [
      "Bắt đầu MLflow Run ID: 7aa3cec528964097bf39be9bd4e68a18\n"
     ]
    },
    {
     "name": "stderr",
     "output_type": "stream",
     "text": [
      "2025/10/04 16:44:15 WARNING mlflow.models.model: `artifact_path` is deprecated. Please use `name` instead.\n"
     ]
    },
    {
     "name": "stdout",
     "output_type": "stream",
     "text": [
      "Đã log tham số: model_name = sshleifer/distilbart-cnn-12-6\n",
      "Đang log model vào MLflow...\n"
     ]
    },
    {
     "name": "stderr",
     "output_type": "stream",
     "text": [
      "Hardware accelerator e.g. GPU is available in the environment, but no `device` argument is passed to the `Pipeline` object. Model will be on CPU.\n",
      "Some non-default generation parameters are set in the model config. These should go into a GenerationConfig file (https://huggingface.co/docs/transformers/generation_strategies#save-a-custom-decoding-strategy-with-your-model) instead. This warning will be raised to an exception in v4.41.\n",
      "Non-default generation parameters: {'max_length': 142, 'min_length': 56, 'early_stopping': True, 'num_beams': 4, 'length_penalty': 2.0, 'no_repeat_ngram_size': 3, 'forced_bos_token_id': 0, 'forced_eos_token_id': 2}\n",
      "2025/10/04 16:44:17 WARNING mlflow.utils.requirements_utils: Found torch version (2.8.0a0+5228986c39.nv25.6) contains a local version label (+5228986c39.nv25.6). MLflow logged a pip requirement for this package as 'torch==2.8.0a0' without the local version label to make it installable from PyPI. To specify pip requirements containing local version labels, please use `conda_env` or `pip_requirements`.\n",
      "2025/10/04 16:44:17 WARNING mlflow.utils.requirements_utils: Found torchvision version (0.22.0a0+95f10a4e) contains a local version label (+95f10a4e). MLflow logged a pip requirement for this package as 'torchvision==0.22.0a0' without the local version label to make it installable from PyPI. To specify pip requirements containing local version labels, please use `conda_env` or `pip_requirements`.\n",
      "2025/10/04 16:44:28 WARNING mlflow.utils.requirements_utils: Found torchvision version (0.22.0a0+95f10a4e) contains a local version label (+95f10a4e). MLflow logged a pip requirement for this package as 'torchvision==0.22.0a0' without the local version label to make it installable from PyPI. To specify pip requirements containing local version labels, please use `conda_env` or `pip_requirements`.\n",
      "2025/10/04 16:44:28 WARNING mlflow.utils.requirements_utils: Found pytorch-triton version (3.3.0+git96316ce52.nvinternal) contains a local version label (+git96316ce52.nvinternal). MLflow logged a pip requirement for this package as 'pytorch-triton==3.3.0' without the local version label to make it installable from PyPI. To specify pip requirements containing local version labels, please use `conda_env` or `pip_requirements`.\n",
      "2025/10/04 16:44:28 WARNING mlflow.utils.requirements_utils: Found transformer-engine version (2.4.0+3cd6870) contains a local version label (+3cd6870). MLflow logged a pip requirement for this package as 'transformer-engine==2.4.0' without the local version label to make it installable from PyPI. To specify pip requirements containing local version labels, please use `conda_env` or `pip_requirements`.\n"
     ]
    },
    {
     "name": "stdout",
     "output_type": "stream",
     "text": [
      "Log model thành công!\n",
      "🏃 View run Zero-Shot Test with DistilBART at: http://172.17.0.1:5000/#/experiments/3/runs/7aa3cec528964097bf39be9bd4e68a18\n",
      "🧪 View experiment at: http://172.17.0.1:5000/#/experiments/3\n"
     ]
    }
   ],
   "source": [
    "MODEL_NAME=\"sshleifer/distilbart-cnn-12-6\"\n",
    "with mlflow.start_run(run_name=\"Zero-Shot Test with DistilBART\") as run:\n",
    "    run_id = run.info.run_id\n",
    "    print(f\"Bắt đầu MLflow Run ID: {run_id}\")\n",
    "\n",
    "    # Log tham số (ví dụ: tên model đã dùng)\n",
    "    mlflow.log_param(\"model_name\", MODEL_NAME)\n",
    "    print(f\"Đã log tham số: model_name = {MODEL_NAME}\")\n",
    "\n",
    "    # Log model (pipeline) vào MLflow\n",
    "    # Chúng ta trích xuất model và tokenizer từ đối tượng pipeline\n",
    "    print(\"Đang log model vào MLflow...\")\n",
    "    mlflow.transformers.log_model(\n",
    "        transformers_model={\n",
    "            \"model\": summarizer.model,\n",
    "            \"tokenizer\": summarizer.tokenizer,\n",
    "        },\n",
    "        artifact_path=\"summarization_pipeline\", # Tên thư mục lưu model trong run\n",
    "\n",
    "    )\n",
    "    print(\"Log model thành công!\")"
   ]
  },
  {
   "cell_type": "code",
   "execution_count": null,
   "id": "836dbe0b",
   "metadata": {},
   "outputs": [],
   "source": []
  }
 ],
 "metadata": {
  "kernelspec": {
   "display_name": "Python 3",
   "language": "python",
   "name": "python3"
  },
  "language_info": {
   "codemirror_mode": {
    "name": "ipython",
    "version": 3
   },
   "file_extension": ".py",
   "mimetype": "text/x-python",
   "name": "python",
   "nbconvert_exporter": "python",
   "pygments_lexer": "ipython3",
   "version": "3.12.3"
  }
 },
 "nbformat": 4,
 "nbformat_minor": 5
}
